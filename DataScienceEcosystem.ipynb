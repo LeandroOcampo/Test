{
  "metadata": {
    "kernelspec": {
      "name": "python",
      "display_name": "Python (Pyodide)",
      "language": "python"
    },
    "language_info": {
      "codemirror_mode": {
        "name": "python",
        "version": 3
      },
      "file_extension": ".py",
      "mimetype": "text/x-python",
      "name": "python",
      "nbconvert_exporter": "python",
      "pygments_lexer": "ipython3",
      "version": "3.8"
    }
  },
  "nbformat_minor": 5,
  "nbformat": 4,
  "cells": [
    {
      "id": "8bed3861-2b73-49f2-8e26-b13e94f8ed7c",
      "cell_type": "markdown",
      "source": "# Data Science Tools and Ecosystem",
      "metadata": {}
    },
    {
      "id": "c7c16758-8aa9-4435-a507-808d0734220e",
      "cell_type": "markdown",
      "source": "En este cuaderno, se resumen las herramientas y ecosistemas de ciencia de datos.",
      "metadata": {}
    },
    {
      "id": "2655575c-3b27-4e3f-8f09-1467d326065e",
      "cell_type": "markdown",
      "source": "Algunos de los lenguajes populares que utilizan los científicos de datos son:\n1. Python\n2. R\n3. Julia\n",
      "metadata": {}
    },
    {
      "id": "69954f52-3b20-429d-8944-8f8e5bdbc8f2",
      "cell_type": "markdown",
      "source": "Algunas de las bibliotecas comúnmente utilizadas por los científicos de datos incluyen:\n1. Matplotlib\n2. Numpy\n3. Pandas",
      "metadata": {}
    },
    {
      "id": "342fc992-d64b-45ba-85be-4153d94b90d1",
      "cell_type": "markdown",
      "source": "**Objetivos:**\n- Listar lenguajes populares para Ciencia de Datos.\n- Identificar bibliotecas comúnmente utilizadas en Ciencia de Datos.\n- Explorar herramientas de código abierto utilizadas en el entorno de desarrollo.\n- Aprender a realizar operaciones aritméticas básicas en Python.\n- Compartir un Jupyter Notebook a través de GitHub.\n",
      "metadata": {}
    },
    {
      "id": "a1ab40f6-66b5-468a-a0b5-bdbbc8d41796",
      "cell_type": "markdown",
      "source": "| Herramientas de Ciencia de Datos |\n|----------------------------------|\n| Jupyter Notebook                |\n| RStudio                          |\n| Apache Zeppelin                  |\n",
      "metadata": {}
    },
    {
      "id": "e7786098-a3cb-4adf-8914-0d5069cca14d",
      "cell_type": "markdown",
      "source": "A continuación, se presentan algunos ejemplos de evaluación de expresiones aritméticas en Python",
      "metadata": {}
    },
    {
      "id": "214c02ec-09b2-442a-b782-4e8081953312",
      "cell_type": "markdown",
      "source": "(3*4)+5 \nEsta es una expresión aritmética simple para multiplicar y luego sumar enteros\n",
      "metadata": {}
    },
    {
      "id": "2793a015-3129-4968-ad4d-4a15f4152eb3",
      "cell_type": "code",
      "source": "3*4+5",
      "metadata": {
        "trusted": true
      },
      "outputs": [
        {
          "execution_count": 2,
          "output_type": "execute_result",
          "data": {
            "text/plain": "17"
          },
          "metadata": {}
        }
      ],
      "execution_count": 2
    },
    {
      "id": "a0204851-fd22-4c91-af0f-33a5f943b18b",
      "cell_type": "markdown",
      "source": "Esto convertirá 200 minutos a horas dividiendo por 60:\n200/60",
      "metadata": {}
    },
    {
      "id": "11afb82f-8a12-4f2c-b2af-68d8855c3039",
      "cell_type": "code",
      "source": "200/60",
      "metadata": {
        "trusted": true
      },
      "outputs": [
        {
          "execution_count": 3,
          "output_type": "execute_result",
          "data": {
            "text/plain": "3.3333333333333335"
          },
          "metadata": {}
        }
      ],
      "execution_count": 3
    },
    {
      "id": "581e5fe9-b5a3-48ac-9801-fcd21b413d5f",
      "cell_type": "markdown",
      "source": "## Autor\nLeandro Alejandro Ocampo Piña\n",
      "metadata": {}
    },
    {
      "id": "ca7463ba-f106-41bd-aee9-ebca8a7bcdd9",
      "cell_type": "code",
      "source": "",
      "metadata": {
        "trusted": true
      },
      "outputs": [],
      "execution_count": null
    }
  ]
}